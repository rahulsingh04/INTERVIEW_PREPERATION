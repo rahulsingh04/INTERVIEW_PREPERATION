{
 "cells": [
  {
   "cell_type": "markdown",
   "id": "01cbd0b7",
   "metadata": {},
   "source": [
    "# Why do we use cnn instead of ANN?\n"
   ]
  },
  {
   "cell_type": "markdown",
   "id": "6cce9f11",
   "metadata": {},
   "source": [
    "While solving the Image Classification Problem using Ann\n",
    "\n",
    "The first step is to convert the 2-dimensional image into an 1-dimesional  prior to the training model\n",
    "\n",
    "This has two drawback:\n",
    "1) the number of the training parametre increase drastically with increase in size of the parametre\n",
    "2) if the size of the image is 224*224  the no of the trainable pattern with just 4 neuron is approx 6 lakh that's huge \n",
    "\n",
    "\n",
    "ANN can learn single feature representation  of the image  ANN will fail to give the better prediction because  it cannot \n",
    "learn  pixel dependency pressent in the image"
   ]
  },
  {
   "cell_type": "code",
   "execution_count": 1,
   "id": "201c4629",
   "metadata": {},
   "outputs": [],
   "source": [
    "# What are the diffrent layers of the cnn:\n",
    "# 1) INPUT\n",
    "\n",
    "# 2) CONVO\n",
    "\n",
    "# 3) POOLING\n",
    "\n",
    "# 4) FULLY_CONNECTED_LAYER\n",
    "\n",
    "# 5) SOFTMAX\n",
    "\n",
    "# 6) OUTPUT_LAYER"
   ]
  },
  {
   "cell_type": "raw",
   "id": "b189bec3",
   "metadata": {},
   "source": [
    "input: The input layers of the cnn should contain the image data. image data is represented by the 3d data we have to reshape the image into single column "
   ]
  },
  {
   "cell_type": "raw",
   "id": "9b194a13",
   "metadata": {},
   "source": [
    "convolution_layer :to perform the convolution layer it creates several smaller picture of window to  go over the data"
   ]
  },
  {
   "cell_type": "raw",
   "id": "4eb174f1",
   "metadata": {},
   "source": [
    "ReLU Layer :It introduce non linearity to the network and converl all the negative pixel to zero "
   ]
  },
  {
   "cell_type": "raw",
   "id": "3556d497",
   "metadata": {},
   "source": [
    "pooling : pooling is used to reduce the size of the image i.e its width and height.as th name suggested it picks the maximum value for  the certain size of the window"
   ]
  },
  {
   "cell_type": "raw",
   "id": "eb3ac761",
   "metadata": {},
   "source": [
    "FullY_connected_layer: THis layers identify and classify the object in an Image"
   ]
  },
  {
   "cell_type": "raw",
   "id": "66ac0d9a",
   "metadata": {},
   "source": [
    "softmax/logistic_layers: -it is the last layers of the cnn.for binaary classification we use logistic\n",
    "and for the multi classification we use \n",
    "softmax function"
   ]
  },
  {
   "cell_type": "raw",
   "id": "fce19a1a",
   "metadata": {},
   "source": [
    "output_layers :This layers is in the form of the one_hot_encoder"
   ]
  },
  {
   "cell_type": "code",
   "execution_count": null,
   "id": "abd1e1c4",
   "metadata": {},
   "outputs": [],
   "source": []
  },
  {
   "cell_type": "code",
   "execution_count": null,
   "id": "aa9f495d",
   "metadata": {},
   "outputs": [],
   "source": []
  },
  {
   "cell_type": "raw",
   "id": "dafed586",
   "metadata": {},
   "source": [
    "# filters detects spatial pattern such as edges in an Images by detecting change in  Intensity of the Images"
   ]
  },
  {
   "cell_type": "raw",
   "id": "f73b09f7",
   "metadata": {},
   "source": [
    "# strides tell us about the no pixel that we will jump when we are convolving the filter"
   ]
  },
  {
   "cell_type": "raw",
   "id": "3e6113a8",
   "metadata": {},
   "source": [
    "#filter detects spatial pattern in an Image by detecting change in intesity of the Image"
   ]
  },
  {
   "cell_type": "code",
   "execution_count": null,
   "id": "b4e32261",
   "metadata": {},
   "outputs": [],
   "source": []
  },
  {
   "cell_type": "raw",
   "id": "1c27afe2",
   "metadata": {},
   "source": [
    "when we apply the convolution operation the size of the image shrink every time\n",
    "\n",
    "pixel present at the corner of the image ie edge of the image  are used only a few time during the convolution \n",
    "as compared to the central pixel to overcomer this problem we use padding"
   ]
  },
  {
   "cell_type": "code",
   "execution_count": null,
   "id": "f82af255",
   "metadata": {},
   "outputs": [],
   "source": []
  },
  {
   "cell_type": "raw",
   "id": "e1dee7b2",
   "metadata": {},
   "source": [
    "when we apply the convolution the size of the image shrink every tine"
   ]
  },
  {
   "cell_type": "raw",
   "id": "59c5ee1b",
   "metadata": {},
   "source": []
  },
  {
   "cell_type": "raw",
   "id": "bf6b154f",
   "metadata": {},
   "source": [
    "when we apply the convolution of the size of the image shrink every time \n",
    "\n",
    "pixel present at the corner of the image ie at edge of the image are used only a few time during the convolution as compared to the central pixel this cause loss in the information to overcome this problem we used  padding"
   ]
  },
  {
   "cell_type": "code",
   "execution_count": null,
   "id": "ab0695fa",
   "metadata": {},
   "outputs": [],
   "source": []
  },
  {
   "cell_type": "markdown",
   "id": "5fc847f9",
   "metadata": {},
   "source": [
    "what are hyperparametre?\n",
    "hyperparametre is parametre whose value is to be set before the learning process begin\n",
    "it determined how the network is trained and the structured of the network\n"
   ]
  },
  {
   "cell_type": "raw",
   "id": "f582b970",
   "metadata": {},
   "source": [
    "what happen when the Learning Rate is too small or too large?\n",
    "if the learning rate is too small then the progress will be very slow as we are making the minimal updates to the weights\n",
    "it will take the many update before reaching the global minima point\n",
    "\n",
    "if the learning rate is set too high this causes undesirable divergent behaviour to the loss function due to drastic updates inthe weights it may fail to converge the global minima point"
   ]
  },
  {
   "cell_type": "code",
   "execution_count": null,
   "id": "9dbf76be",
   "metadata": {},
   "outputs": [],
   "source": []
  },
  {
   "cell_type": "raw",
   "id": "d6bafd20",
   "metadata": {},
   "source": [
    "What is dropout and the and the batch normalization?\n",
    "dropout is the technique of dropping the  hidden and the visible units  to prevent the data from the overfitting\n",
    "batch normalization:\n",
    "        it helps to improve the performace and the stability of the neural network by normalizing the imput in every layers\n",
    "        so that the mean is 0 and standard deviation is one"
   ]
  },
  {
   "cell_type": "raw",
   "id": "6eae5f32",
   "metadata": {},
   "source": [
    "what is dropout and the batch normalization?\n",
    "dropout is the technique of dropping the hidden and the neural network to prevent the data from the overfitting\n",
    "batch normalization : it helps to improve the performance and the stabilty of the data by normalizing every neural network \n",
    "so that the mean is 0 and the standard deviation is one"
   ]
  },
  {
   "cell_type": "code",
   "execution_count": null,
   "id": "73c7a372",
   "metadata": {},
   "outputs": [],
   "source": []
  },
  {
   "cell_type": "raw",
   "id": "f6a564c5",
   "metadata": {},
   "source": [
    "dropout is the technique of dropping the hidden and the neural network to prevent the data from the overfitting\n",
    "\n",
    "batch normalization : it helps to improve the stability and the performace of the neural network by normalizing every neural network  so that the mean is 0 and the standard deviation is 1"
   ]
  },
  {
   "cell_type": "code",
   "execution_count": null,
   "id": "3355eb35",
   "metadata": {},
   "outputs": [],
   "source": []
  },
  {
   "cell_type": "code",
   "execution_count": null,
   "id": "271b1217",
   "metadata": {},
   "outputs": [],
   "source": [
    "#it helps to improve the stability and  the performance of the neural network by normalizing every neural network\n",
    "so that the mean is 0 and the standard deviation is one"
   ]
  },
  {
   "cell_type": "code",
   "execution_count": null,
   "id": "0a9d0187",
   "metadata": {},
   "outputs": [],
   "source": []
  },
  {
   "cell_type": "code",
   "execution_count": 2,
   "id": "9d962e70",
   "metadata": {},
   "outputs": [],
   "source": [
    "# "
   ]
  },
  {
   "cell_type": "code",
   "execution_count": null,
   "id": "0229e4eb",
   "metadata": {},
   "outputs": [],
   "source": []
  },
  {
   "cell_type": "code",
   "execution_count": null,
   "id": "13fcb791",
   "metadata": {},
   "outputs": [],
   "source": []
  },
  {
   "cell_type": "raw",
   "id": "e4e8516d",
   "metadata": {},
   "source": []
  }
 ],
 "metadata": {
  "kernelspec": {
   "display_name": "Python 3 (ipykernel)",
   "language": "python",
   "name": "python3"
  },
  "language_info": {
   "codemirror_mode": {
    "name": "ipython",
    "version": 3
   },
   "file_extension": ".py",
   "mimetype": "text/x-python",
   "name": "python",
   "nbconvert_exporter": "python",
   "pygments_lexer": "ipython3",
   "version": "3.9.7"
  }
 },
 "nbformat": 4,
 "nbformat_minor": 5
}
