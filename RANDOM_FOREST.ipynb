{
 "cells": [
  {
   "cell_type": "raw",
   "id": "f184d4ad",
   "metadata": {},
   "source": [
    "1. What do you mean by Random Forest Algorithm?\n"
   ]
  },
  {
   "cell_type": "raw",
   "id": "5d80fa6f",
   "metadata": {},
   "source": [
    "Random Forest is machine learning ensemble Technique that averages several decision tree  on diffrent part of the same training set  , with an objective of the overcoming the  overfitting problem of the  individual decision tree"
   ]
  },
  {
   "cell_type": "raw",
   "id": "74426a75",
   "metadata": {},
   "source": [
    "Why random forest is the most populart algorithm :\n",
    "because it doesn't have any assumption and it handle over fitting problem very well  because it uses several decision tree and  it doesn't required any preprocessing of the data"
   ]
  },
  {
   "cell_type": "code",
   "execution_count": null,
   "id": "15d1b8c0",
   "metadata": {},
   "outputs": [],
   "source": []
  },
  {
   "cell_type": "raw",
   "id": "edb11616",
   "metadata": {},
   "source": [
    "Explain the working of the RandomForest Algorithms?\n",
    "pick k random record from the dataset having total of N record\n",
    "build and train decision tree model  on these k record\n",
    "Step-3: Choose the number of trees you want in your algorithm and repeat steps 1 and 2."
   ]
  },
  {
   "cell_type": "raw",
   "id": "ac4c18c6",
   "metadata": {},
   "source": []
  },
  {
   "cell_type": "raw",
   "id": "2b9e1a79",
   "metadata": {},
   "source": [
    "Advantage of the decision tree?\n",
    "\n",
    "1) It doesn't get overfit\n",
    "2) It required less training parameter\n",
    "3) decision tree can handle both continous and the categorical value\n",
    "4) No feature selection is required\n",
    "5) No data Preprocessing is required"
   ]
  },
  {
   "cell_type": "raw",
   "id": "c14c04a6",
   "metadata": {},
   "source": [
    "disadvantage of the Random Forest Classifier:---\n",
    "\n",
    "1) Complexity is the major disadvantange of this algorithm  . More computation is required because it need large number of the decision tree combined together\n",
    "2) Due to there complexity  more training timing is required is compared to the algorithm\n",
    "3) Biased with the feature having  many categories\n",
    "4) "
   ]
  },
  {
   "cell_type": "raw",
   "id": "8e867892",
   "metadata": {},
   "source": [
    "What is Robust?'\n",
    "The robustness is the property that characterizes how effective your algorithm is while being tested on the new independent (but similar) dataset. In the other words, the robust algorithm is the one, the testing error of which is close to the training error.\n"
   ]
  },
  {
   "cell_type": "raw",
   "id": "8dc3d61a",
   "metadata": {},
   "source": [
    "PERFORMANCE Metrics:- \n",
    "confusion_matrix , precision Recall,  F1- score\n",
    "\n",
    "Regression \n",
    "R2 adjusted R2 \n",
    "MSE , RMSE , MAE"
   ]
  },
  {
   "cell_type": "code",
   "execution_count": null,
   "id": "3c53e7b4",
   "metadata": {},
   "outputs": [],
   "source": []
  }
 ],
 "metadata": {
  "kernelspec": {
   "display_name": "Python 3",
   "language": "python",
   "name": "python3"
  },
  "language_info": {
   "codemirror_mode": {
    "name": "ipython",
    "version": 3
   },
   "file_extension": ".py",
   "mimetype": "text/x-python",
   "name": "python",
   "nbconvert_exporter": "python",
   "pygments_lexer": "ipython3",
   "version": "3.8.8"
  }
 },
 "nbformat": 4,
 "nbformat_minor": 5
}
