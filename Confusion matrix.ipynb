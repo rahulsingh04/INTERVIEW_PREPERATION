{
 "cells": [
  {
   "cell_type": "raw",
   "id": "083481dc",
   "metadata": {},
   "source": []
  },
  {
   "cell_type": "raw",
   "id": "b3eeda28",
   "metadata": {},
   "source": []
  },
  {
   "cell_type": "raw",
   "id": "ba59ee88",
   "metadata": {},
   "source": [
    "what is the confusion?\n",
    "It is the performance metrics to measure the classification model\n",
    "where the output is binary or the multiclass\n",
    "\n",
    "It has two thing to notice\n",
    "a) actual_value :- The actual value present in the dataset\n",
    "b) predicted_value: - the value predicted by the  model"
   ]
  },
  {
   "cell_type": "raw",
   "id": "7bdac503",
   "metadata": {},
   "source": [
    "It contains the 4 points :\n",
    "1)True Positive\n",
    "2)True Negative\n",
    "3)Flase Positive\n",
    "4)False Negative"
   ]
  },
  {
   "cell_type": "raw",
   "id": "21052870",
   "metadata": {},
   "source": [
    "Precision:- precision is all the points thaat are declared to be +ve  but what % of them are actually +ve\n",
    "        PRECISION:(TRUE_POSITIVE)\n",
    "                  _____________________\n",
    "                  PREDICTED VALUE"
   ]
  },
  {
   "cell_type": "raw",
   "id": "38e4aa7b",
   "metadata": {},
   "source": [
    "RECALL : recall is the points that are actually +ve but what percent are declared positive\n",
    "   \n",
    "     RECALL: (TRUE_POSITIVE)\n",
    "             ----------------\n",
    "             ACTUAL_POSITIVE"
   ]
  },
  {
   "cell_type": "raw",
   "id": "a20ead35",
   "metadata": {},
   "source": [
    "F1_SCORE: It is used to measured test_accuracy .It is a weighted average of the precision and recall when f1 score is 1, \n",
    " it's best  on 0 it is worst"
   ]
  },
  {
   "cell_type": "raw",
   "id": "1f5c3827",
   "metadata": {},
   "source": [
    "F1 = 2*(precision*recall)/(precision+recall)"
   ]
  },
  {
   "cell_type": "code",
   "execution_count": null,
   "id": "cead370e",
   "metadata": {},
   "outputs": [],
   "source": []
  },
  {
   "cell_type": "raw",
   "id": "d17eff63",
   "metadata": {},
   "source": [
    "How to handle the imbalance dataset:-\n",
    "Downsampling :- loose some data\n",
    "upsampling :-- it is of two type:\n",
    "        1) artificial points :This can cause  overfitting of the data\n",
    "        2) class weights : in this we can use xgboost or the adaboost"
   ]
  },
  {
   "cell_type": "code",
   "execution_count": null,
   "id": "eaaad726",
   "metadata": {},
   "outputs": [],
   "source": []
  }
 ],
 "metadata": {
  "kernelspec": {
   "display_name": "Python 3 (ipykernel)",
   "language": "python",
   "name": "python3"
  },
  "language_info": {
   "codemirror_mode": {
    "name": "ipython",
    "version": 3
   },
   "file_extension": ".py",
   "mimetype": "text/x-python",
   "name": "python",
   "nbconvert_exporter": "python",
   "pygments_lexer": "ipython3",
   "version": "3.9.12"
  }
 },
 "nbformat": 4,
 "nbformat_minor": 5
}
