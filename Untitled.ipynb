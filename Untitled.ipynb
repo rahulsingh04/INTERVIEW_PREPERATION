{
 "cells": [
  {
   "cell_type": "raw",
   "id": "ea9c2d02",
   "metadata": {},
   "source": [
    "How to scale the feature ??\n",
    "1) standardisation = it means to typically rescale the data to have a mean of 0 and standardisation deviation of 1\n",
    "2) Mean Normalisation= Distribution will have values between -1 and  1 with  u(mew)=0\n",
    "\n",
    "### Standardisation and the mean Normalisation  is used for the algorithm that assume data like PCA\n",
    "\n",
    "Min-Max-Scaling = 0 to 1\n",
    "\n",
    "unit vector =  x' = x\n",
    "                   ____\n",
    "                   ||x||\n",
    "                   \n",
    "when dealing feature with  hard boundaaries  this is quite useful , for eg  when dealing with Image Data the color  can range from only 0 to 255"
   ]
  },
  {
   "cell_type": "raw",
   "id": "db79bb8e",
   "metadata": {},
   "source": [
    "##### Example of algorithm where feature scaling is Required\n",
    "k-means = it uses the Eucledean distance  so feature scaling matter \n",
    "K-nearest\n",
    "PCA - Tries to get the feature with maximum variance so feature scaling matter \n",
    "\n",
    "Gradient Descent : = calculation speed Increase  as Theta  calculation faster after  feature scaling \n",
    "\n",
    "Naives Bayes , linear Discriminant Analysis  and tree  based  models  are not affected  by  feature scaling. In short any algo  which is not distance not  affected by feature scaling\n",
    "     "
   ]
  },
  {
   "cell_type": "code",
   "execution_count": null,
   "id": "ed03af71",
   "metadata": {},
   "outputs": [],
   "source": []
  }
 ],
 "metadata": {
  "kernelspec": {
   "display_name": "Python 3 (ipykernel)",
   "language": "python",
   "name": "python3"
  },
  "language_info": {
   "codemirror_mode": {
    "name": "ipython",
    "version": 3
   },
   "file_extension": ".py",
   "mimetype": "text/x-python",
   "name": "python",
   "nbconvert_exporter": "python",
   "pygments_lexer": "ipython3",
   "version": "3.9.7"
  }
 },
 "nbformat": 4,
 "nbformat_minor": 5
}
