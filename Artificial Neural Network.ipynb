{
 "cells": [
  {
   "cell_type": "raw",
   "id": "27e11ef2",
   "metadata": {},
   "source": [
    "HOW to preprepare for the deep learning interview :--\n",
    "\n",
    "ANN, CNNN , RNN\n",
    "Neural Network , weights ,  Bias , Activation function\n",
    "*Sigmoid \n",
    "*Tan h\n",
    "*Relu\n",
    "*Prelu\n",
    "*Hidden layers\n",
    "*output \n",
    "*sigmoid\n",
    "*softmax\n",
    "*linear\n"
   ]
  },
  {
   "cell_type": "code",
   "execution_count": null,
   "id": "5e35788d",
   "metadata": {},
   "outputs": [],
   "source": []
  },
  {
   "cell_type": "raw",
   "id": "da0bfc61",
   "metadata": {},
   "source": [
    "WHy sigmoid Tanh is not used in Activation layers:-\n",
    "answer --- Vanishing Gradient\n",
    "\n",
    "Weight initializer Techniques:-\n",
    "1) He_init ----------Relu\n",
    "2) Xavier Glorot ----Sigmoid and Tanh\n",
    "********LOSS  Function**************\n",
    "1)Binary cross Entropy\n",
    "2)categorical cross Entropy\n",
    "3)Sparse Categorical CrossEntropy\n",
    "\n",
    "####OUTPUT\n",
    "Binary classification ----Sigmoid\n",
    "Multiclass classification-- Softmax\n",
    "\n",
    "###Regression\n",
    "1) Mean Absolute Error\n",
    "2) Mean squared Error\n",
    "3) Root mean Squared Error\n"
   ]
  },
  {
   "cell_type": "raw",
   "id": "2fe439ad",
   "metadata": {},
   "source": [
    "why sigmoid tangh is not used in Activation layers:--\n",
    "answer ------Vanishing gradient \n",
    "1) binary cross Entropy \n",
    "2) categorical cross Entropy\n",
    "3) sparse Categorical CrossEntropy\n",
    "\n",
    "###output\n",
    "\n",
    "Binary classification --------sigmoid\n",
    "Multiclass classification -----\n"
   ]
  },
  {
   "cell_type": "raw",
   "id": "65e4bfa5",
   "metadata": {},
   "source": [
    "Reducce  loss with the optimizers\n",
    "\n",
    "1) Gradient Descent: Resource takes lots of memory\n",
    "2) SGD----Training will be very slow \n",
    "3) Mini Batch  SGD --- Forward Proagation , Backward Propagation,  { Noise Convergence will take time }\n",
    "4) SGD with  momentum\n",
    "5) Adagrad\n",
    "6) Adadelta and RMSPROP\n",
    "7) ADAM (MOMENTUM+RMSPROP)\n",
    "8) Nadam"
   ]
  },
  {
   "cell_type": "raw",
   "id": "102cd9c5",
   "metadata": {},
   "source": [
    "Q1) How do we decide  how many no of hidden layer and neuron should be taken in each and every layer\n",
    "\n",
    "we can use keras tuner for this "
   ]
  },
  {
   "cell_type": "raw",
   "id": "91d57a3c",
   "metadata": {},
   "source": []
  },
  {
   "cell_type": "code",
   "execution_count": null,
   "id": "6152ea81",
   "metadata": {},
   "outputs": [],
   "source": []
  },
  {
   "cell_type": "code",
   "execution_count": null,
   "id": "c09bafd3",
   "metadata": {},
   "outputs": [],
   "source": []
  },
  {
   "cell_type": "code",
   "execution_count": null,
   "id": "f13184dc",
   "metadata": {},
   "outputs": [],
   "source": []
  },
  {
   "cell_type": "code",
   "execution_count": null,
   "id": "76b4a36f",
   "metadata": {},
   "outputs": [],
   "source": []
  }
 ],
 "metadata": {
  "kernelspec": {
   "display_name": "Python 3 (ipykernel)",
   "language": "python",
   "name": "python3"
  },
  "language_info": {
   "codemirror_mode": {
    "name": "ipython",
    "version": 3
   },
   "file_extension": ".py",
   "mimetype": "text/x-python",
   "name": "python",
   "nbconvert_exporter": "python",
   "pygments_lexer": "ipython3",
   "version": "3.9.7"
  }
 },
 "nbformat": 4,
 "nbformat_minor": 5
}
